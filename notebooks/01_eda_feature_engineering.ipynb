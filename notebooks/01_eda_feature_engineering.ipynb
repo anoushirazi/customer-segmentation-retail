{
 "cells": [
  {
   "cell_type": "markdown",
   "id": "1c45f6bd",
   "metadata": {},
   "source": [
    "### 1. Import Libraries"
   ]
  },
  {
   "cell_type": "code",
   "execution_count": null,
   "id": "aa92bbda",
   "metadata": {},
   "outputs": [],
   "source": [
    "import pandas as pd\n",
    "import numpy as np\n",
    "import matplotlib.pyplot as plt\n",
    "import seaborn as sns\n",
    "from sklearn.preprocessing import StandardScaler\n",
    "\n",
    "sns.set(style=\"whitegrid\")\n",
    "plt.rcParams[\"figure.figsize\"] = (10, 6)\n"
   ]
  },
  {
   "cell_type": "markdown",
   "id": "4b473f93",
   "metadata": {},
   "source": [
    "### 2. Load Dataset"
   ]
  },
  {
   "cell_type": "code",
   "execution_count": null,
   "id": "d4b86735",
   "metadata": {},
   "outputs": [],
   "source": [
    "df = pd.read_csv('../data/raw/raw_retail_data.csv')\n",
    "print(\"Dataset shape:\", df.shape)\n",
    "df.head()\n"
   ]
  },
  {
   "cell_type": "markdown",
   "id": "66ab9070",
   "metadata": {},
   "source": [
    "### 3. Data Cleaning"
   ]
  },
  {
   "cell_type": "code",
   "execution_count": null,
   "id": "e0131c33",
   "metadata": {},
   "outputs": [],
   "source": [
    "df.dropna(subset=['Customer ID', 'Age', 'Gender', 'Total Amount'], inplace=True)\n",
    "df['Date'] = pd.to_datetime(df['Date'])\n",
    "df.drop_duplicates(inplace=True)\n",
    "df.head()\n"
   ]
  },
  {
   "cell_type": "markdown",
   "id": "b62c46d8",
   "metadata": {},
   "source": [
    "### 4. Feature Engineering: Customer-Level Aggregation"
   ]
  },
  {
   "cell_type": "code",
   "execution_count": null,
   "id": "c0657ec4",
   "metadata": {},
   "outputs": [],
   "source": [
    "customer_df = df.groupby('Customer ID').agg({\n",
    "    'Age': 'first',\n",
    "    'Gender': 'first',\n",
    "    'Total Amount': ['sum', 'mean'],\n",
    "    'Transaction ID': 'count'\n",
    "}).reset_index()\n",
    "\n",
    "customer_df.columns = ['Customer_ID', 'Age', 'Gender', 'Total_Spent', 'Avg_Spent', 'Num_Transactions']\n",
    "customer_df['Gender'] = customer_df['Gender'].map({'Male': 0, 'Female': 1})\n",
    "customer_df.head()\n"
   ]
  },
  {
   "cell_type": "markdown",
   "id": "27447d3d",
   "metadata": {},
   "source": [
    "### 5. Exploratory Data Analysis"
   ]
  },
  {
   "cell_type": "code",
   "execution_count": null,
   "id": "adbfec61",
   "metadata": {},
   "outputs": [],
   "source": [
    "sns.boxplot(x='Gender', y='Total_Spent', data=customer_df)\n",
    "plt.title(\"Total Spending by Gender\")\n",
    "plt.xticks([0, 1], ['Male', 'Female'])\n",
    "plt.show()\n"
   ]
  },
  {
   "cell_type": "markdown",
   "id": "6ea0c93c",
   "metadata": {},
   "source": [
    "### 6. Feature Scaling"
   ]
  },
  {
   "cell_type": "code",
   "execution_count": null,
   "id": "160e8830",
   "metadata": {},
   "outputs": [],
   "source": [
    "features = ['Age', 'Gender', 'Total_Spent', 'Avg_Spent', 'Num_Transactions']\n",
    "X = customer_df[features]\n",
    "\n",
    "scaler = StandardScaler()\n",
    "X_scaled = scaler.fit_transform(X)\n"
   ]
  }
 ],
 "metadata": {},
 "nbformat": 4,
 "nbformat_minor": 5
}
