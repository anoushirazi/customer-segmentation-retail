{
 "cells": [
  {
   "cell_type": "markdown",
   "id": "e6bcf752",
   "metadata": {},
   "source": [
    "# 03_segment_profiling_and_marketing_strategy.ipynb\n",
    "\n",
    "📌 **Customer Segment Profiling & Marketing Strategy**"
   ]
  },
  {
   "cell_type": "code",
   "execution_count": null,
   "id": "9773429d",
   "metadata": {},
   "outputs": [],
   "source": [
    "\n",
    "# 1. Import Libraries\n",
    "import pandas as pd\n",
    "import matplotlib.pyplot as plt\n",
    "import seaborn as sns\n",
    "\n",
    "sns.set(style=\"whitegrid\")\n",
    "plt.rcParams[\"figure.figsize\"] = (10, 6)\n",
    "\n",
    "# 2. Load Clustered Customer Data\n",
    "customer_df = pd.read_csv(\"clustered_customers.csv\")\n",
    "\n",
    "# 3. Segment Profiling (using KMeans clusters)\n",
    "segment_summary = customer_df.groupby('Cluster_KMeans')[['Age', 'Gender', 'Total_Spent', 'Avg_Spent', 'Num_Transactions']].mean()\n",
    "print(\"Segment Profiles (Averages):\")\n",
    "print(segment_summary)\n",
    "\n",
    "# 4. Visualize Segment Characteristics\n",
    "segment_summary.plot(kind='bar', subplots=True, layout=(3, 2), figsize=(14, 10), legend=False, title=['Age', 'Gender', 'Total Spent', 'Avg Spent', 'Num Transactions'])\n",
    "plt.tight_layout()\n",
    "plt.show()\n",
    "\n",
    "# 5. Define Segment-Based Marketing Strategies\n",
    "# Based on previous analysis from clustering\n",
    "marketing_actions = {\n",
    "    0: [\"Young, high-spending\", \"Loyalty program\"],\n",
    "    1: [\"Older, low spending\", \"Reactivation email campaign\"],\n",
    "    2: [\"Frequent, low-value transactions\", \"Bundle or upsell offers\"],\n",
    "    3: [\"High transaction count & spending\", \"VIP program or priority tier\"]\n",
    "}\n",
    "\n",
    "# Convert to DataFrame\n",
    "strategy_df = pd.DataFrame.from_dict(marketing_actions, orient='index', columns=['Profile Summary', 'Suggested Action'])\n",
    "strategy_df.index.name = 'Cluster'\n",
    "strategy_df.reset_index(inplace=True)\n",
    "\n",
    "# 6. Display Strategy Table\n",
    "print(\"📊 Marketing Strategy per Segment\")\n",
    "display(strategy_df)\n",
    "\n",
    "# 7. Optional: Save Strategy Table\n",
    "strategy_df.to_csv(\"segment_marketing_strategies.csv\", index=False)\n"
   ]
  }
 ],
 "metadata": {},
 "nbformat": 4,
 "nbformat_minor": 5
}
